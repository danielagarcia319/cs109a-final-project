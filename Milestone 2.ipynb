{
 "cells": [
  {
   "cell_type": "markdown",
   "id": "ff982c77",
   "metadata": {},
   "source": [
    "# CS109A Final Project - Milestone 2\n",
    "### Ilona Demler, Daniela Garcia, Kayla Manning, Saul Soto\n",
    "\n",
    "This notebook contains the code used to produce our Milestone 2 Report."
   ]
  },
  {
   "cell_type": "markdown",
   "id": "d2313dc6-ead4-43c1-8a6f-66fd45f06a2e",
   "metadata": {},
   "source": [
    "## Import Libraries\n",
    "\n"
   ]
  },
  {
   "cell_type": "code",
   "execution_count": 2,
   "id": "0d83bcd1",
   "metadata": {},
   "outputs": [],
   "source": [
    "# import standard libraries\n",
    "import os\n",
    "import pandas as pd\n",
    "import sys\n",
    "import numpy as np\n",
    "import scipy as sp\n",
    "import sklearn as sk\n",
    "import itertools\n",
    "import math\n",
    "\n",
    "# import model tools\n",
    "from sklearn.preprocessing import PolynomialFeatures\n",
    "from sklearn.preprocessing import StandardScaler\n",
    "from sklearn.model_selection import cross_validate\n",
    "from sklearn.model_selection import train_test_split\n",
    "from sklearn.model_selection import cross_val_score\n",
    "from sklearn.metrics import accuracy_score\n",
    "from sklearn.metrics import roc_curve\n",
    "from sklearn.metrics import roc_auc_score\n",
    "\n",
    "# import models objects\n",
    "from sklearn import tree\n",
    "from sklearn import ensemble\n",
    "from sklearn.linear_model import LogisticRegression\n",
    "from sklearn.neighbors import KNeighborsClassifier\n",
    "from sklearn.linear_model import LogisticRegressionCV\n",
    "from sklearn.tree import DecisionTreeClassifier\n",
    "from sklearn.ensemble import RandomForestClassifier\n",
    "from sklearn.ensemble import AdaBoostClassifier\n",
    "\n",
    "# import viz libraries\n",
    "import graphviz\n",
    "import seaborn as sns\n",
    "import matplotlib.pyplot as plt\n",
    "\n",
    "# pandas tricks for better display\n",
    "pd.set_option('display.width', 1500)\n",
    "pd.set_option('display.max_columns', 100)\n",
    "\n",
    "%matplotlib inline"
   ]
  },
  {
   "cell_type": "markdown",
   "id": "f1973cd2",
   "metadata": {},
   "source": [
    "## Loading the Data\n",
    "\n"
   ]
  },
  {
   "cell_type": "code",
   "execution_count": null,
   "id": "ccc00733",
   "metadata": {},
   "outputs": [],
   "source": [
    "# get slice names (replace this with your own file path)\n",
    "path_stem = \"/Users/danielagarcia/OneDrive - Harvard University/Sophomore Year/CS109a/jupyter/cs109a-final-project/Data/data/\"\n",
    "file_names = os.listdir(path_stem)\n",
    "assert len(file_names) == 1000\n",
    "\n",
    "# create empty data frame to store concatenated slices\n",
    "playlist_data_raw = pd.DataFrame()\n",
    "\n",
    "# combine each slice into one data frame \n",
    "for file in file_names:\n",
    "    data_temp = pd.read_csv(path_stem + file)\n",
    "    playlist_data_raw = playlist_data_raw.append(data_temp, ignore_index = True)    "
   ]
  },
  {
   "cell_type": "code",
   "execution_count": null,
   "id": "abddc3e1-16fb-4df4-a00f-0d22127bed11",
   "metadata": {},
   "outputs": [],
   "source": [
    "# sample data \n",
    "playlist_data_sample = playlist_data_raw.sample(10000, random_state = 109, ignore_index = True)\n",
    "playlist_data_sample.head()"
   ]
  },
  {
   "cell_type": "markdown",
   "id": "a5e296c3-9ff9-4efe-8647-2bd2abc98649",
   "metadata": {},
   "source": [
    "## Cleaning the Data\n",
    "\n"
   ]
  },
  {
   "cell_type": "code",
   "execution_count": null,
   "id": "952d7347-90ec-4554-973a-844a3dbdb8ce",
   "metadata": {},
   "outputs": [],
   "source": [
    "# clean data\n",
    "\n",
    "# initialize popular names, artists, songs\n",
    "popular_names = [\"country\", \"chill\", \"rap\", \"workout\", \"oldies\", \"christmas\", \"rock\", \"party\", \"throwback\", \n",
    "                 \"jams\", \"worship\", \"summer\", \"feels\", \"new\", \"disney\", \"lit\", \"throwbacks\", \"music\", \"sleep\", \"vibes\"]\n",
    "\n",
    "popular_artists = [\"Drake\", \"Kanye West\", \"Kendrick Lamar\", \"Rihanna\", \"The Weeknd\", \"Eminem\", \"Ed Sheeran\", \"Future\", \n",
    "                   \"Justin Bieber\", \"J. Cole\", \"Beyoncé\", \"The Chainsmokers\", \"Chris Brown\", \"Calvin Harris\", \n",
    "                   \"Twenty One Pilots\", \"Lil Uzi Vert\", \"Post Malone\", \"Big Sean\", \"Maroon 5\", \"JAY Z\"]\n",
    "\n",
    "popular_tracks = [\"HUMBLE. by Kendrick Lamar\", \"One Dance by Drake\", \"Broccoli (feat. Lil Yachty) by DRAM\", \n",
    "                  \"Closer by The Chainsmokers\", \"Congratulations by Post Malone\", \"Caroline by Aminé\", \n",
    "                  \"iSpy (feat. Lil Yachty) by KYLE\", \"Bad and Boujee (feat. Lil Uzi Vert) by Migos\", \"Location by Khalid\",\n",
    "                  \"XO TOUR Llif3 by Lil Uzi Vert\", \"Bounce Back by Big Sean\", \"Ignition - Remix by R. Kelly\", \n",
    "                  \"No Role Modelz by J. Cole\", \"Mask Off by Future\", \"No Problem (feat. Lil Wayne & 2 Chainz) by Chance The Rapper\",\n",
    "                  \"I'm the One by DJ Khaled\", \"Jumpman by Drake\", \"goosebumps by Travis Scott\", \"Fake Love by Drake\",\n",
    "                  \"Despacito - Remix by Luis Fonsi\"]\n",
    "\n",
    "# extract predictor variables that don't need cleaning\n",
    "playlist_data = playlist_data_sample[[\"num_tracks\", \"num_albums\", \"num_followers\", \"duration_ms\", \"num_artists\"]].copy()\n",
    "\n",
    "# initialize binary variables\n",
    "playlist_data[[\"collaborative\"]] = np.where(playlist_data_sample[[\"collaborative\"]] == True, 1, 0)\n",
    "playlist_data[[\"has_description\"]] = np.where(playlist_data_sample[[\"description\"]].isna(), 0, 1)\n",
    "\n",
    "# create popular_name variable\n",
    "popular_name = []\n",
    "for playlist_name in playlist_data_sample[\"name\"]:\n",
    "    popular_name.append(np.where(any([name in playlist_name.lower() for name in popular_names]), 1, 0))\n",
    "playlist_data[[\"popular_name\"]] = pd.DataFrame(popular_name)\n",
    "\n",
    "# extract track information\n",
    "total_popular_tracks = []\n",
    "total_popular_artists = []\n",
    "playlist_tracks = playlist_data_sample[\"tracks\"]\n",
    "\n",
    "# iterate through each playlist\n",
    "for track_data in playlist_tracks:\n",
    "    # convert string to code\n",
    "    track_data = eval(track_data)\n",
    "    \n",
    "    # initialize empty data frames to store data for each song in playlist\n",
    "    pop_tracks = []\n",
    "    pop_artists = []\n",
    "    \n",
    "    # iterate through each song in playlist\n",
    "    for track_dict in track_data:\n",
    "        track_name = track_dict[\"track_name\"]\n",
    "        artist_name = track_dict[\"artist_name\"]\n",
    "        \n",
    "        # check if track name is popular\n",
    "        if track_name + \" by \" + artist_name in popular_tracks:\n",
    "            pop_tracks.append(1)\n",
    "        else:\n",
    "            pop_tracks.append(0)\n",
    "        \n",
    "        # check if artist name is popular\n",
    "        if artist_name in popular_artists:\n",
    "            pop_artists.append(1)\n",
    "        else:\n",
    "            pop_artists.append(0)\n",
    "        \n",
    "    \n",
    "    # compute sum of popular songs and artists for that playlist\n",
    "    total_popular_tracks.append(sum(pop_tracks))\n",
    "    total_popular_artists.append(sum(pop_artists))\n",
    "\n",
    "# add sums as new columns in data frame  \n",
    "playlist_data[[\"total_popular_tracks\"]] = pd.DataFrame(total_popular_tracks)\n",
    "playlist_data[[\"total_popular_artists\"]] = pd.DataFrame(total_popular_artists)\n"
   ]
  },
  {
   "cell_type": "code",
   "execution_count": null,
   "id": "bc3f0648-64c6-48a5-a34d-b68c059f390e",
   "metadata": {},
   "outputs": [],
   "source": [
    "# display cleaned data\n",
    "display(playlist_data.head())\n",
    "display(playlist_data.describe())"
   ]
  },
  {
   "cell_type": "markdown",
   "id": "172aca1c-a825-40a3-8b1b-78f0badb74c5",
   "metadata": {},
   "source": [
    "## Generating Train and Test Sets\n",
    "\n"
   ]
  },
  {
   "cell_type": "code",
   "execution_count": null,
   "id": "6e891e84-3e1b-44e8-9287-10722890bef3",
   "metadata": {},
   "outputs": [],
   "source": [
    "# split data into training and test data\n",
    "X_data = playlist_data[[\"popular_name\", \"has_description\", \"num_artists\", \"num_albums\", \"num_tracks\", \n",
    "                        \"duration_ms\", \"collaborative\", \"total_popular_tracks\", \"total_popular_artists\"]].copy()\n",
    "y_data = playlist_data[\"num_followers\"].copy()\n",
    "\n",
    "X_train, X_test, y_train, y_test = train_test_split(X_data, y_data, train_size = 0.8, random_state = 109)"
   ]
  },
  {
   "cell_type": "markdown",
   "id": "7fa22bb0-175c-4820-8bf2-edfc3fad8a9e",
   "metadata": {},
   "source": [
    "## EDA\n",
    "\n"
   ]
  },
  {
   "cell_type": "code",
   "execution_count": null,
   "id": "881f6d12-cbe6-4d51-a1d6-c57b16aaf67d",
   "metadata": {},
   "outputs": [],
   "source": []
  }
 ],
 "metadata": {
  "kernelspec": {
   "display_name": "Python 3 (ipykernel)",
   "language": "python",
   "name": "python3"
  },
  "language_info": {
   "codemirror_mode": {
    "name": "ipython",
    "version": 3
   },
   "file_extension": ".py",
   "mimetype": "text/x-python",
   "name": "python",
   "nbconvert_exporter": "python",
   "pygments_lexer": "ipython3",
   "version": "3.9.6"
  }
 },
 "nbformat": 4,
 "nbformat_minor": 5
}
