{
 "cells": [
  {
   "cell_type": "markdown",
   "id": "fbc7d006-b698-4f81-949a-155310c06c9c",
   "metadata": {},
   "source": [
    "Convert data from json to csv"
   ]
  },
  {
   "cell_type": "code",
   "execution_count": 6,
   "id": "eaa0d18f-2f82-4eed-8788-e4b78187b1ff",
   "metadata": {},
   "outputs": [],
   "source": [
    "# import libraries\n",
    "import pandas as pd\n",
    "import os\n",
    "import json"
   ]
  },
  {
   "cell_type": "code",
   "execution_count": 2,
   "id": "c582adde-1b17-476c-b74c-1c13b48d1854",
   "metadata": {},
   "outputs": [
    {
     "data": {
      "text/plain": [
       "'/Users/danielagarcia/OneDrive - Harvard University/Sophomore Year/CS109a/jupyter/final_project_data/spotify_million_playlist_dataset/data'"
      ]
     },
     "execution_count": 2,
     "metadata": {},
     "output_type": "execute_result"
    }
   ],
   "source": [
    "# set working directory\n",
    "os.chdir('/Users/danielagarcia/OneDrive - Harvard University/Sophomore Year/CS109a/jupyter/final_project_data/spotify_million_playlist_dataset/data')\n",
    "os.getcwd()"
   ]
  },
  {
   "cell_type": "code",
   "execution_count": 3,
   "id": "8cfdc0e2-e892-428f-8e81-77c9eedadafc",
   "metadata": {
    "tags": []
   },
   "outputs": [],
   "source": [
    "# get file names\n",
    "file_names = os.listdir(os.getcwd())\n",
    "assert len(file_names) == 1000"
   ]
  },
  {
   "cell_type": "code",
   "execution_count": 14,
   "id": "86af4ea9-0b63-4528-9c93-ddde2d2c9785",
   "metadata": {},
   "outputs": [],
   "source": [
    "# iterate through each json and convert\n",
    "for file in file_names:\n",
    "    # read file\n",
    "    data = json.load(open(file))\n",
    "    df_temp = pd.DataFrame(data[\"playlists\"])\n",
    "    \n",
    "    # make csv file name and save\n",
    "    new_name = file.replace('.json', '.csv')\n",
    "    df_temp.to_csv('/Users/danielagarcia/OneDrive - Harvard University/Sophomore Year/CS109a/jupyter/cs109a-final-project/Data/data/' + new_name)\n"
   ]
  },
  {
   "cell_type": "code",
   "execution_count": 15,
   "id": "9949d1de-999c-415b-995b-04b3ae4a646e",
   "metadata": {},
   "outputs": [
    {
     "data": {
      "text/plain": [
       "'/Users/danielagarcia/OneDrive - Harvard University/Sophomore Year/CS109a/jupyter/final_project_data/spotify_million_playlist_dataset/data'"
      ]
     },
     "execution_count": 15,
     "metadata": {},
     "output_type": "execute_result"
    }
   ],
   "source": [
    "# check current working directory\n",
    "os.getcwd()"
   ]
  },
  {
   "cell_type": "code",
   "execution_count": 17,
   "id": "05ff83c1-1fb1-4b33-a266-99d1f8b1c3ef",
   "metadata": {},
   "outputs": [
    {
     "data": {
      "text/plain": [
       "'/Users/danielagarcia/OneDrive - Harvard University/Sophomore Year/CS109a/jupyter/cs109a-final-project/Data/data'"
      ]
     },
     "execution_count": 17,
     "metadata": {},
     "output_type": "execute_result"
    }
   ],
   "source": [
    "# change working directory and make sure all 1000 files present\n",
    "os.chdir('/Users/danielagarcia/OneDrive - Harvard University/Sophomore Year/CS109a/jupyter/cs109a-final-project/Data/data')\n",
    "os.getcwd()"
   ]
  },
  {
   "cell_type": "code",
   "execution_count": 18,
   "id": "facdd934-2a9c-40eb-9ea4-201a372edb91",
   "metadata": {},
   "outputs": [],
   "source": [
    "# get file names\n",
    "file_names_finished = os.listdir(os.getcwd())\n",
    "assert len(file_names_finished) == 1000"
   ]
  },
  {
   "cell_type": "code",
   "execution_count": null,
   "id": "774522c6-dae6-439f-add8-70234a1eb160",
   "metadata": {},
   "outputs": [],
   "source": []
  }
 ],
 "metadata": {
  "kernelspec": {
   "display_name": "Python 3 (ipykernel)",
   "language": "python",
   "name": "python3"
  },
  "language_info": {
   "codemirror_mode": {
    "name": "ipython",
    "version": 3
   },
   "file_extension": ".py",
   "mimetype": "text/x-python",
   "name": "python",
   "nbconvert_exporter": "python",
   "pygments_lexer": "ipython3",
   "version": "3.9.6"
  }
 },
 "nbformat": 4,
 "nbformat_minor": 5
}
